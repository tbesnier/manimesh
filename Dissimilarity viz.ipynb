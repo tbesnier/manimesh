{
 "cells": [
  {
   "cell_type": "code",
   "execution_count": 1,
   "id": "21f7d870",
   "metadata": {},
   "outputs": [
    {
     "name": "stdout",
     "output_type": "stream",
     "text": [
      "Jupyter environment detected. Enabling Open3D WebVisualizer.\n",
      "[Open3D INFO] WebRTC GUI backend enabled.\n",
      "[Open3D INFO] WebRTCWindowSystem: HTTP handshake server disabled.\n"
     ]
    }
   ],
   "source": [
    "import sys,os\n",
    "import trimesh as tri\n",
    "import numpy as np\n",
    "import torch\n",
    "\n",
    "from utils import mesh_processing, lddmm_utils"
   ]
  },
  {
   "cell_type": "code",
   "execution_count": 2,
   "id": "78c248d6",
   "metadata": {},
   "outputs": [],
   "source": [
    "def export_mesh(V, F, file_name):\n",
    "    \"\"\"\n",
    "    Export mesh as .ply file from vertices coordinates and face connectivity\n",
    "    \"\"\"\n",
    "    result = tri.exchange.ply.export_ply(tri.Trimesh(V,F), encoding='ascii')\n",
    "    output_file = open(file_name, \"wb+\")\n",
    "    output_file.write(result)\n",
    "    output_file.close()"
   ]
  },
  {
   "cell_type": "code",
   "execution_count": 3,
   "id": "e843e32b",
   "metadata": {},
   "outputs": [],
   "source": [
    "file_path = \"../datasets/COMA/FaceTalk_170725_00137_TA/bareteeth/bareteeth.000001.ply\""
   ]
  },
  {
   "cell_type": "code",
   "execution_count": 4,
   "id": "b05a5382",
   "metadata": {},
   "outputs": [],
   "source": [
    "mesh = tri.load(file_path)"
   ]
  },
  {
   "cell_type": "code",
   "execution_count": null,
   "id": "afa58c6b",
   "metadata": {},
   "outputs": [],
   "source": []
  }
 ],
 "metadata": {
  "kernelspec": {
   "display_name": "Python 3 (ipykernel)",
   "language": "python",
   "name": "python3"
  },
  "language_info": {
   "codemirror_mode": {
    "name": "ipython",
    "version": 3
   },
   "file_extension": ".py",
   "mimetype": "text/x-python",
   "name": "python",
   "nbconvert_exporter": "python",
   "pygments_lexer": "ipython3",
   "version": "3.8.10"
  }
 },
 "nbformat": 4,
 "nbformat_minor": 5
}
