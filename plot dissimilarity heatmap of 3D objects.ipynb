{
 "cells": [
  {
   "cell_type": "code",
   "execution_count": 4,
   "id": "330728ce",
   "metadata": {},
   "outputs": [],
   "source": [
    "import sys,os\n",
    "import trimesh as tri\n",
    "import numpy as np\n",
    "import torch\n",
    "import matplotlib.pyplot as plt\n",
    "import polyscope as ps\n",
    "ps.init()\n",
    "\n",
    "from utils import mesh_processing, lddmm_utils"
   ]
  },
  {
   "cell_type": "code",
   "execution_count": 5,
   "id": "01ebd8c5",
   "metadata": {},
   "outputs": [],
   "source": [
    "root_path = \"../datasets/COMA/\"\n",
    "root_path_remeshed = \"../datasets/COMA_remeshed/\"\n",
    "\n",
    "idents = ['FaceTalk_170725_00137_TA', 'FaceTalk_170728_03272_TA', 'FaceTalk_170731_00024_TA', 'FaceTalk_170809_00138_TA',\n",
    "          'FaceTalk_170811_03274_TA', 'FaceTalk_170811_03275_TA', 'FaceTalk_170904_00128_TA', 'FaceTalk_170904_03276_TA',\n",
    "          'FaceTalk_170908_03277_TA', 'FaceTalk_170912_03278_TA', 'FaceTalk_170913_03279_TA', 'FaceTalk_170915_00223_TA']\n",
    "\n",
    "exprs = ['bareteeth', 'cheeks_in', 'eyebrow', 'high_smile', 'lips_back', 'lips_up',\n",
    "         'mouth_down', 'mouth_extreme', 'mouth_middle', 'mouth_open', 'mouth_side', 'mouth_up']"
   ]
  },
  {
   "cell_type": "code",
   "execution_count": 6,
   "id": "74be9476",
   "metadata": {},
   "outputs": [],
   "source": [
    "def load(root_path, ident, expr, neutral=False):\n",
    "    path_id_expr = root_path + ident + '/' + expr\n",
    "    list_id_expr = os.listdir(path_id_expr)\n",
    "    list_id_expr.sort()\n",
    "    if neutral:\n",
    "        return(tri.load(path_id_expr + '/' + list_id_expr[0]))\n",
    "    \n",
    "    return(tri.load(path_id_expr + '/' + list_id_expr[len(list_id_expr)//2]))"
   ]
  },
  {
   "cell_type": "code",
   "execution_count": 142,
   "id": "cb2ca132",
   "metadata": {},
   "outputs": [],
   "source": [
    "target_path = '../datasets/results_FLAME/cheeks_in/cheeks_in.000001/scan_scaled.obj'\n",
    "\n",
    "pred_path = '../Data/COMA/results_identity/pointnet_original_autoencoder/latent_128/train_half/viz_predictions/tst000.ply'\n",
    "#pred_path = '../datasets/results_FLAME/cheeks_in/cheeks_in.000001/fit_scan_result.obj'\n",
    "\n",
    "mesh1 = tri.load(target_path)\n",
    "mesh2 = tri.load(pred_path)\n",
    "V1, V2 = np.array(mesh1.vertices), np.array(mesh2.vertices)\n",
    "F1, F2 = np.array(mesh1.faces), np.array(mesh2.faces)\n",
    "C1, C2 = np.array(mesh1.triangles_center), np.array(mesh2.triangles_center)"
   ]
  },
  {
   "cell_type": "code",
   "execution_count": 143,
   "id": "a5874241",
   "metadata": {},
   "outputs": [],
   "source": [
    "import matplotlib as mpl\n",
    "from matplotlib.colors import ListedColormap, LinearSegmentedColormap\n",
    "\n",
    "viridis = mpl.colormaps['viridis']"
   ]
  },
  {
   "cell_type": "code",
   "execution_count": 144,
   "id": "b821c91a",
   "metadata": {},
   "outputs": [],
   "source": [
    "def closest(points, P):\n",
    "    \"\"\"\n",
    "        points: 3xn array representing the point cloud\n",
    "        P: centre point to measure distance from\n",
    "        \n",
    "        Returns: tuple(closest point, distance between P and closest point)\n",
    "    \"\"\" \n",
    "    distances = [np.linalg.norm(p) for p in (points - P)]\n",
    "    idx_of_min = np.argmin(distances)\n",
    "    \n",
    "    return (points[idx_of_min], distances[idx_of_min])"
   ]
  },
  {
   "cell_type": "code",
   "execution_count": 145,
   "id": "96602a5c",
   "metadata": {},
   "outputs": [],
   "source": [
    "def distance_mat_from_ref(V, ref):\n",
    "    \n",
    "    return np.array([closest(V,ref[i])[1] for i in range(ref.shape[0])])"
   ]
  },
  {
   "cell_type": "code",
   "execution_count": 146,
   "id": "a65e2d43",
   "metadata": {},
   "outputs": [],
   "source": [
    "D = np.linalg.norm(V2 - V1, axis=1)"
   ]
  },
  {
   "cell_type": "code",
   "execution_count": 147,
   "id": "be833f85",
   "metadata": {},
   "outputs": [],
   "source": [
    "D_faces = np.linalg.norm(C2 - C1, axis=1)"
   ]
  },
  {
   "cell_type": "code",
   "execution_count": 148,
   "id": "1222213c",
   "metadata": {},
   "outputs": [
    {
     "data": {
      "text/plain": [
       "0.0219465288623515"
      ]
     },
     "execution_count": 148,
     "metadata": {},
     "output_type": "execute_result"
    }
   ],
   "source": [
    "D.max()"
   ]
  },
  {
   "cell_type": "code",
   "execution_count": 149,
   "id": "84843591",
   "metadata": {},
   "outputs": [],
   "source": [
    "ps_mesh = ps.register_surface_mesh(\"my mesh\", V1, F1)\n",
    "\n",
    "# visualize some random data per-vertex\n",
    "ps_mesh.add_scalar_quantity(\"rand vals\", D, enabled=True, vminmax=(0,0.02), cmap='jet')\n",
    "\n",
    "# visualize some random data per-face\n",
    "ps_mesh.add_scalar_quantity(\"rand vals2\", D_faces, defined_on='faces', vminmax=(0,0.02), cmap='jet')\n",
    "\n",
    "# view the mesh with all of these quantities\n",
    "ps.show() "
   ]
  },
  {
   "cell_type": "code",
   "execution_count": null,
   "id": "8b283319",
   "metadata": {},
   "outputs": [],
   "source": []
  }
 ],
 "metadata": {
  "kernelspec": {
   "display_name": "Python 3 (ipykernel)",
   "language": "python",
   "name": "python3"
  },
  "language_info": {
   "codemirror_mode": {
    "name": "ipython",
    "version": 3
   },
   "file_extension": ".py",
   "mimetype": "text/x-python",
   "name": "python",
   "nbconvert_exporter": "python",
   "pygments_lexer": "ipython3",
   "version": "3.8.10"
  }
 },
 "nbformat": 4,
 "nbformat_minor": 5
}
