{
 "cells": [
  {
   "cell_type": "code",
   "execution_count": 82,
   "id": "330728ce",
   "metadata": {},
   "outputs": [],
   "source": [
    "import sys,os\n",
    "import trimesh as tri\n",
    "import numpy as np\n",
    "import torch\n",
    "import matplotlib.pyplot as plt\n",
    "import polyscope as ps\n",
    "ps.init()\n",
    "\n",
    "from utils import mesh_processing, lddmm_utils"
   ]
  },
  {
   "cell_type": "code",
   "execution_count": 83,
   "id": "01ebd8c5",
   "metadata": {},
   "outputs": [],
   "source": [
    "root_path = \"../datasets/COMA/\"\n",
    "\n",
    "idents = ['FaceTalk_170725_00137_TA', 'FaceTalk_170728_03272_TA', 'FaceTalk_170731_00024_TA', 'FaceTalk_170809_00138_TA',\n",
    "          'FaceTalk_170811_03274_TA', 'FaceTalk_170811_03275_TA', 'FaceTalk_170904_00128_TA', 'FaceTalk_170904_03276_TA',\n",
    "          'FaceTalk_170908_03277_TA', 'FaceTalk_170912_03278_TA', 'FaceTalk_170913_03279_TA', 'FaceTalk_170915_00223_TA']\n",
    "\n",
    "exprs = ['bareteeth', 'cheeks_in', 'eyebrow', 'high_smile', 'lips_back', 'lips_up',\n",
    "         'mouth_down', 'mouth_extreme', 'mouth_middle', 'mouth_open', 'mouth_side', 'mouth_up']"
   ]
  },
  {
   "cell_type": "code",
   "execution_count": 148,
   "id": "5aa4eb37",
   "metadata": {},
   "outputs": [],
   "source": [
    "path_id1_neutral = root_path + idents[0] + '/' + exprs[11]\n",
    "list_id1_neutral = os.listdir(path_id1_neutral)\n",
    "list_id1_neutral.sort()\n",
    "\n",
    "path_id1_expr1 = root_path + idents[0] + '/' + exprs[11]\n",
    "list_id1_expr1 = os.listdir(path_id1_expr1)\n",
    "list_id1_expr1.sort()\n",
    "\n",
    "mesh1 = tri.load(path_id1_neutral + '/' + list_id1_expr1[0])\n",
    "mesh2 = tri.load(path_id1_expr1 + '/' + list_id1_expr1[len(list_id1_expr1)//2])\n",
    "V1, V2 = np.array(mesh1.vertices), np.array(mesh2.vertices)\n",
    "F1, F2 = np.array(mesh1.faces), np.array(mesh2.faces)"
   ]
  },
  {
   "cell_type": "code",
   "execution_count": 149,
   "id": "b821c91a",
   "metadata": {},
   "outputs": [],
   "source": [
    "def dist_mat(V1, V2):\n",
    "    D = []\n",
    "    for p in V1:\n",
    "        d = []\n",
    "        for q in V2:\n",
    "            d.append(np.linalg.norm(p - q))\n",
    "        D.append(d)\n",
    "    return np.array(D)"
   ]
  },
  {
   "cell_type": "code",
   "execution_count": 150,
   "id": "96602a5c",
   "metadata": {},
   "outputs": [],
   "source": [
    "d = V2 - V1"
   ]
  },
  {
   "cell_type": "code",
   "execution_count": 151,
   "id": "bcf1c598",
   "metadata": {},
   "outputs": [],
   "source": [
    "C1, C2 = np.array(mesh1.triangles_center), np.array(mesh2.triangles_center)"
   ]
  },
  {
   "cell_type": "code",
   "execution_count": 152,
   "id": "018f7554",
   "metadata": {},
   "outputs": [],
   "source": [
    "d2 = C2 - C1"
   ]
  },
  {
   "cell_type": "code",
   "execution_count": 153,
   "id": "84843591",
   "metadata": {},
   "outputs": [],
   "source": [
    "ps_mesh = ps.register_surface_mesh(\"my mesh\", V1, F1)\n",
    "\n",
    "# visualize some random data per-vertex\n",
    "vals_vert = np.linalg.norm(d, axis=1)\n",
    "ps_mesh.add_scalar_quantity(\"rand vals\", vals_vert, enabled=True)\n",
    "\n",
    "# visualize some random data per-face\n",
    "vals_face = np.linalg.norm(d2, axis=1)\n",
    "ps_mesh.add_scalar_quantity(\"rand vals2\", vals_face, defined_on='faces')\n",
    "\n",
    "# view the mesh with all of these quantities\n",
    "ps.show() "
   ]
  },
  {
   "cell_type": "code",
   "execution_count": null,
   "id": "8b283319",
   "metadata": {},
   "outputs": [],
   "source": []
  }
 ],
 "metadata": {
  "kernelspec": {
   "display_name": "Python 3 (ipykernel)",
   "language": "python",
   "name": "python3"
  },
  "language_info": {
   "codemirror_mode": {
    "name": "ipython",
    "version": 3
   },
   "file_extension": ".py",
   "mimetype": "text/x-python",
   "name": "python",
   "nbconvert_exporter": "python",
   "pygments_lexer": "ipython3",
   "version": "3.8.10"
  }
 },
 "nbformat": 4,
 "nbformat_minor": 5
}
