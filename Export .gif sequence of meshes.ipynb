{
 "cells": [
  {
   "cell_type": "code",
   "execution_count": 7,
   "id": "ce9a85e4",
   "metadata": {},
   "outputs": [],
   "source": [
    "import sys,os\n",
    "import trimesh as tri\n",
    "import numpy as np\n",
    "\n",
    "from utils import mesh_processing"
   ]
  },
  {
   "cell_type": "code",
   "execution_count": 8,
   "id": "a59df748",
   "metadata": {},
   "outputs": [],
   "source": [
    "identity = '/FaceTalk_170725_00137_TA'\n",
    "exprs = ['bareteeth', 'cheeks_in', 'eyebrow', 'high_smile', 'lips_back', 'lips_up',\n",
    "         'mouth_down', 'mouth_extreme', 'mouth_middle', 'mouth_open', 'mouth_side', 'mouth_up']"
   ]
  },
  {
   "cell_type": "code",
   "execution_count": 3,
   "id": "f4d35600",
   "metadata": {},
   "outputs": [],
   "source": [
    "root_path = \"../datasets\"\n",
    "dataset = \"/COMA_remeshed_qes\"\n",
    "\n",
    "path = root_path + dataset + identity + '/' + exprs[0]"
   ]
  },
  {
   "cell_type": "code",
   "execution_count": 4,
   "id": "c5b290f5",
   "metadata": {},
   "outputs": [],
   "source": [
    "list_data = os.listdir(path)\n",
    "list_data.sort()\n",
    "\n",
    "faces = tri.load_mesh(os.path.join(path,list_data[0])).faces"
   ]
  },
  {
   "cell_type": "code",
   "execution_count": 5,
   "id": "ecd13cec",
   "metadata": {},
   "outputs": [],
   "source": [
    "list_meshes = []\n",
    "list_faces = []\n",
    "for mesh in list_data:\n",
    "    list_meshes.append(tri.load_mesh(os.path.join(path, mesh)).vertices.T)\n",
    "    list_faces.append(tri.load_mesh(os.path.join(path, mesh)).faces)\n",
    "#list_meshes = np.array(list_meshes)"
   ]
  },
  {
   "cell_type": "code",
   "execution_count": 6,
   "id": "f43c4b9f",
   "metadata": {},
   "outputs": [],
   "source": [
    "#mesh_processing.create_gif_shape(list_data = list_meshes, faces=faces, file_dir=\"Viz\", file_name=\"COMA_id1_expr1.gif\",\n",
    "#                                 x_view=0, y_view=0, z_view=0, auto_scale = False)\n",
    "#x_view=0, y_view=0, z_view=0 for COMA\n",
    "#x_view=20, y_view=0, z_view=0 for D3FACS"
   ]
  },
  {
   "cell_type": "code",
   "execution_count": 7,
   "id": "2131c0fb",
   "metadata": {},
   "outputs": [
    {
     "name": "stderr",
     "output_type": "stream",
     "text": [
      "/home/besnier/phd/projects/manimesh/utils/mesh_processing.py:224: VisibleDeprecationWarning: Creating an ndarray from ragged nested sequences (which is a list-or-tuple of lists-or-tuples-or ndarrays with different lengths or shapes) is deprecated. If you meant to do this, you must specify 'dtype=object' when creating the ndarray.\n",
      "  steps = np.array(steps)\n"
     ]
    }
   ],
   "source": [
    "mesh_processing.create_gif_shape_inconsistent(list_data = list_meshes, list_faces=list_faces, file_dir=\"Viz\", file_name=\"COMA_id1_expr1_remeshed_qes_edges.gif\",\n",
    "                                 x_view=0, y_view=0, z_view=0, auto_scale = False)\n",
    "#x_view=0, y_view=0, z_view=0 for COMA\n",
    "#x_view=20, y_view=0, z_view=0 for D3FACS"
   ]
  },
  {
   "cell_type": "code",
   "execution_count": 42,
   "id": "2a3da7c7",
   "metadata": {},
   "outputs": [
    {
     "data": {
      "text/plain": [
       "(3, 14073)"
      ]
     },
     "execution_count": 42,
     "metadata": {},
     "output_type": "execute_result"
    }
   ],
   "source": [
    "list_meshes[0].shape"
   ]
  },
  {
   "cell_type": "markdown",
   "id": "20a48a8a",
   "metadata": {},
   "source": [
    "## Check predictions"
   ]
  },
  {
   "cell_type": "code",
   "execution_count": 36,
   "id": "348f61b8",
   "metadata": {},
   "outputs": [],
   "source": [
    "import sys,os\n",
    "import trimesh as tri\n",
    "import numpy as np\n",
    "\n",
    "from utils import mesh_processing\n",
    "\n",
    "dataset='COMA'\n",
    "no_eyes=False\n",
    "\n",
    "data = np.load('predictions.npy')"
   ]
  },
  {
   "cell_type": "code",
   "execution_count": 37,
   "id": "bf1378e8",
   "metadata": {},
   "outputs": [
    {
     "data": {
      "text/plain": [
       "(99, 5023, 3)"
      ]
     },
     "execution_count": 37,
     "metadata": {},
     "output_type": "execute_result"
    }
   ],
   "source": [
    "data.shape"
   ]
  },
  {
   "cell_type": "code",
   "execution_count": 38,
   "id": "e560b222",
   "metadata": {},
   "outputs": [],
   "source": [
    "data = np.concatenate((data[:20,:,:], data[20:199:2,:,:]))"
   ]
  },
  {
   "cell_type": "code",
   "execution_count": 39,
   "id": "d8ef8dc8",
   "metadata": {},
   "outputs": [
    {
     "data": {
      "text/plain": [
       "(60, 5023, 3)"
      ]
     },
     "execution_count": 39,
     "metadata": {},
     "output_type": "execute_result"
    }
   ],
   "source": [
    "data.shape"
   ]
  },
  {
   "cell_type": "code",
   "execution_count": 40,
   "id": "8084944e",
   "metadata": {},
   "outputs": [],
   "source": [
    "data = data.swapaxes(1,2)"
   ]
  },
  {
   "cell_type": "code",
   "execution_count": 41,
   "id": "f2feb693",
   "metadata": {},
   "outputs": [],
   "source": [
    "if dataset=='COMA':\n",
    "    if no_eyes:\n",
    "        template_mesh = tri.load(\"../Data/COMA/template/template_noeyes.ply\")\n",
    "    else:\n",
    "        template_mesh = tri.load(\"../Data/COMA/template/template.ply\")\n",
    "if dataset=='FAUST':\n",
    "    template_mesh = tri.load(\"../Data/FAUST/template/template.ply\")\n",
    "\n",
    "faces = np.array(template_mesh.faces)"
   ]
  },
  {
   "cell_type": "code",
   "execution_count": 42,
   "id": "a9c7cddb",
   "metadata": {},
   "outputs": [],
   "source": [
    "mesh_processing.create_gif_shape(list_data = data, faces= faces,\n",
    "                 file_dir ='test_training_COMA/template/supervised_spirals', file_name='test_1mesh_1expr.gif', x_view=0, y_view=0, z_view=0, auto_scale = True)"
   ]
  },
  {
   "cell_type": "code",
   "execution_count": null,
   "id": "5e97a81f",
   "metadata": {},
   "outputs": [],
   "source": []
  }
 ],
 "metadata": {
  "kernelspec": {
   "display_name": "Python 3 (ipykernel)",
   "language": "python",
   "name": "python3"
  },
  "language_info": {
   "codemirror_mode": {
    "name": "ipython",
    "version": 3
   },
   "file_extension": ".py",
   "mimetype": "text/x-python",
   "name": "python",
   "nbconvert_exporter": "python",
   "pygments_lexer": "ipython3",
   "version": "3.8.10"
  }
 },
 "nbformat": 4,
 "nbformat_minor": 5
}
