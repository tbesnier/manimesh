{
 "cells": [
  {
   "cell_type": "code",
   "execution_count": 33,
   "id": "ce9a85e4",
   "metadata": {},
   "outputs": [],
   "source": [
    "import sys,os\n",
    "import trimesh as tri\n",
    "import numpy as np\n",
    "\n",
    "from utils import mesh_processing"
   ]
  },
  {
   "cell_type": "code",
   "execution_count": 34,
   "id": "7eb21f3d",
   "metadata": {},
   "outputs": [],
   "source": [
    "mesh = tri.load_mesh(\"../datasets/COMA/FaceTalk_170725_00137_TA/bareteeth/bareteeth.000001.ply\")\n",
    "faces = mesh.faces"
   ]
  },
  {
   "cell_type": "code",
   "execution_count": 35,
   "id": "a776bd27",
   "metadata": {},
   "outputs": [],
   "source": [
    "list_data = os.listdir(\"../datasets/COMA/FaceTalk_170725_00137_TA/bareteeth\")\n",
    "list_data.sort()"
   ]
  },
  {
   "cell_type": "code",
   "execution_count": 36,
   "id": "ecd13cec",
   "metadata": {},
   "outputs": [],
   "source": [
    "list_meshes = []\n",
    "for path in list_data:\n",
    "    list_meshes.append(tri.load_mesh(os.path.join(\"../datasets/COMA/FaceTalk_170725_00137_TA/bareteeth/\", path)).vertices)\n",
    "list_meshes = np.array(list_meshes)    "
   ]
  },
  {
   "cell_type": "code",
   "execution_count": null,
   "id": "48c10c68",
   "metadata": {},
   "outputs": [],
   "source": []
  },
  {
   "cell_type": "code",
   "execution_count": 38,
   "id": "2131c0fb",
   "metadata": {},
   "outputs": [
    {
     "ename": "ValueError",
     "evalue": "matmul: Input operand 1 has a mismatch in its core dimension 0, with gufunc signature (n?,k),(k,m?)->(n?,m?) (size 4 is different from 5024)",
     "output_type": "error",
     "traceback": [
      "\u001b[0;31m---------------------------------------------------------------------------\u001b[0m",
      "\u001b[0;31mValueError\u001b[0m                                Traceback (most recent call last)",
      "Cell \u001b[0;32mIn [38], line 1\u001b[0m\n\u001b[0;32m----> 1\u001b[0m \u001b[43mmesh_processing\u001b[49m\u001b[38;5;241;43m.\u001b[39;49m\u001b[43mcreate_gif_shape\u001b[49m\u001b[43m(\u001b[49m\u001b[43mlist_data\u001b[49m\u001b[43m \u001b[49m\u001b[38;5;241;43m=\u001b[39;49m\u001b[43m \u001b[49m\u001b[43mlist_meshes\u001b[49m\u001b[43m,\u001b[49m\u001b[43m \u001b[49m\u001b[43mfaces\u001b[49m\u001b[38;5;241;43m=\u001b[39;49m\u001b[43mfaces\u001b[49m\u001b[43m,\u001b[49m\u001b[43m \u001b[49m\u001b[43mfile_dir\u001b[49m\u001b[38;5;241;43m=\u001b[39;49m\u001b[38;5;124;43m\"\u001b[39;49m\u001b[38;5;124;43mtest\u001b[39;49m\u001b[38;5;124;43m\"\u001b[39;49m\u001b[43m,\u001b[49m\u001b[43m \u001b[49m\u001b[43mfile_name\u001b[49m\u001b[38;5;241;43m=\u001b[39;49m\u001b[38;5;124;43m\"\u001b[39;49m\u001b[38;5;124;43mtest.gif\u001b[39;49m\u001b[38;5;124;43m\"\u001b[39;49m\u001b[43m,\u001b[49m\u001b[43m \u001b[49m\u001b[43mx_view\u001b[49m\u001b[38;5;241;43m=\u001b[39;49m\u001b[38;5;241;43m0\u001b[39;49m\u001b[43m,\u001b[49m\u001b[43m \u001b[49m\u001b[43my_view\u001b[49m\u001b[38;5;241;43m=\u001b[39;49m\u001b[38;5;241;43m0\u001b[39;49m\u001b[43m,\u001b[49m\u001b[43m \u001b[49m\u001b[43mz_view\u001b[49m\u001b[38;5;241;43m=\u001b[39;49m\u001b[38;5;241;43m0\u001b[39;49m\u001b[43m,\u001b[49m\u001b[43m \u001b[49m\u001b[43mauto_scale\u001b[49m\u001b[43m \u001b[49m\u001b[38;5;241;43m=\u001b[39;49m\u001b[43m \u001b[49m\u001b[38;5;28;43;01mTrue\u001b[39;49;00m\u001b[43m)\u001b[49m\n",
      "File \u001b[0;32m~/phd/projects/manimesh/utils/mesh_processing.py:172\u001b[0m, in \u001b[0;36mcreate_gif_shape\u001b[0;34m(list_data, faces, file_dir, file_name, x_view, y_view, z_view, auto_scale)\u001b[0m\n\u001b[1;32m    170\u001b[0m     V \u001b[38;5;241m=\u001b[39m (V\u001b[38;5;241m-\u001b[39m(V\u001b[38;5;241m.\u001b[39mmax(\u001b[38;5;241m0\u001b[39m)\u001b[38;5;241m+\u001b[39mV\u001b[38;5;241m.\u001b[39mmin(\u001b[38;5;241m0\u001b[39m))\u001b[38;5;241m/\u001b[39m\u001b[38;5;241m2\u001b[39m)\u001b[38;5;241m/\u001b[39mscale\n\u001b[1;32m    171\u001b[0m MVP \u001b[38;5;241m=\u001b[39m perspective(\u001b[38;5;241m25\u001b[39m,\u001b[38;5;241m1\u001b[39m,\u001b[38;5;241m1\u001b[39m,\u001b[38;5;241m100\u001b[39m) \u001b[38;5;241m@\u001b[39m translate(\u001b[38;5;241m0\u001b[39m,\u001b[38;5;241m0\u001b[39m,\u001b[38;5;241m-\u001b[39m\u001b[38;5;241m3.5\u001b[39m) \u001b[38;5;241m@\u001b[39m xrotate(x_view) \u001b[38;5;241m@\u001b[39m yrotate(y_view) \u001b[38;5;241m@\u001b[39m zrotate(z_view)\n\u001b[0;32m--> 172\u001b[0m V \u001b[38;5;241m=\u001b[39m \u001b[43mnp\u001b[49m\u001b[38;5;241;43m.\u001b[39;49m\u001b[43mc_\u001b[49m\u001b[43m[\u001b[49m\u001b[43mV\u001b[49m\u001b[43m,\u001b[49m\u001b[43m \u001b[49m\u001b[43mnp\u001b[49m\u001b[38;5;241;43m.\u001b[39;49m\u001b[43mones\u001b[49m\u001b[43m(\u001b[49m\u001b[38;5;28;43mlen\u001b[39;49m\u001b[43m(\u001b[49m\u001b[43mV\u001b[49m\u001b[43m)\u001b[49m\u001b[43m)\u001b[49m\u001b[43m]\u001b[49m\u001b[43m  \u001b[49m\u001b[38;5;241;43m@\u001b[39;49m\u001b[43m \u001b[49m\u001b[43mMVP\u001b[49m\u001b[38;5;241;43m.\u001b[39;49m\u001b[43mT\u001b[49m\n\u001b[1;32m    173\u001b[0m V \u001b[38;5;241m/\u001b[39m\u001b[38;5;241m=\u001b[39m V[:,\u001b[38;5;241m3\u001b[39m]\u001b[38;5;241m.\u001b[39mreshape(\u001b[38;5;241m-\u001b[39m\u001b[38;5;241m1\u001b[39m,\u001b[38;5;241m1\u001b[39m)\n\u001b[1;32m    174\u001b[0m V \u001b[38;5;241m=\u001b[39m V[F]\n",
      "\u001b[0;31mValueError\u001b[0m: matmul: Input operand 1 has a mismatch in its core dimension 0, with gufunc signature (n?,k),(k,m?)->(n?,m?) (size 4 is different from 5024)"
     ]
    }
   ],
   "source": [
    "mesh_processing.create_gif_shape(list_data = list_meshes, faces=faces, file_dir=\"test\", file_name=\"test.gif\", x_view=0, y_view=0, z_view=0, auto_scale = True)"
   ]
  },
  {
   "cell_type": "code",
   "execution_count": null,
   "id": "348f61b8",
   "metadata": {},
   "outputs": [],
   "source": []
  }
 ],
 "metadata": {
  "kernelspec": {
   "display_name": "Python 3 (ipykernel)",
   "language": "python",
   "name": "python3"
  },
  "language_info": {
   "codemirror_mode": {
    "name": "ipython",
    "version": 3
   },
   "file_extension": ".py",
   "mimetype": "text/x-python",
   "name": "python",
   "nbconvert_exporter": "python",
   "pygments_lexer": "ipython3",
   "version": "3.8.10"
  }
 },
 "nbformat": 4,
 "nbformat_minor": 5
}
