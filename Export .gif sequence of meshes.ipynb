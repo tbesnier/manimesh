{
 "cells": [
  {
   "cell_type": "code",
   "execution_count": 1,
   "id": "ce9a85e4",
   "metadata": {},
   "outputs": [
    {
     "name": "stdout",
     "output_type": "stream",
     "text": [
      "Jupyter environment detected. Enabling Open3D WebVisualizer.\n",
      "[Open3D INFO] WebRTC GUI backend enabled.\n",
      "[Open3D INFO] WebRTCWindowSystem: HTTP handshake server disabled.\n"
     ]
    }
   ],
   "source": [
    "import sys,os\n",
    "import trimesh as tri\n",
    "import numpy as np\n",
    "\n",
    "from utils import mesh_processing"
   ]
  },
  {
   "cell_type": "code",
   "execution_count": 13,
   "id": "f4d35600",
   "metadata": {},
   "outputs": [],
   "source": [
    "path = \"../datasets/FLAME/D3DFACS/Adrian/1+2/\""
   ]
  },
  {
   "cell_type": "code",
   "execution_count": 15,
   "id": "c5b290f5",
   "metadata": {},
   "outputs": [],
   "source": [
    "list_data = os.listdir(path)\n",
    "list_data.sort()\n",
    "faces = tri.load_mesh(os.path.join(path,list_data[0])).faces"
   ]
  },
  {
   "cell_type": "code",
   "execution_count": 16,
   "id": "ecd13cec",
   "metadata": {},
   "outputs": [],
   "source": [
    "list_meshes = []\n",
    "for path in list_data:\n",
    "    list_meshes.append(tri.load_mesh(os.path.join(\"../datasets/FLAME/D3DFACS/Adrian/1+2/\", path)).vertices.T)\n",
    "list_meshes = np.array(list_meshes)"
   ]
  },
  {
   "cell_type": "code",
   "execution_count": 25,
   "id": "2131c0fb",
   "metadata": {},
   "outputs": [],
   "source": [
    "mesh_processing.create_gif_shape(list_data = list_meshes, faces=faces, file_dir=\"test\", file_name=\"test.gif\",\n",
    "                                 x_view=-35, y_view=0, z_view=0, auto_scale = False)\n",
    "#x_view=0, y_view=0, z_view=0 for COMA\n",
    "#x_view=20, y_view=0, z_view=0 for D3FACS"
   ]
  },
  {
   "cell_type": "code",
   "execution_count": null,
   "id": "348f61b8",
   "metadata": {},
   "outputs": [],
   "source": []
  }
 ],
 "metadata": {
  "kernelspec": {
   "display_name": "Python 3 (ipykernel)",
   "language": "python",
   "name": "python3"
  },
  "language_info": {
   "codemirror_mode": {
    "name": "ipython",
    "version": 3
   },
   "file_extension": ".py",
   "mimetype": "text/x-python",
   "name": "python",
   "nbconvert_exporter": "python",
   "pygments_lexer": "ipython3",
   "version": "3.8.10"
  }
 },
 "nbformat": 4,
 "nbformat_minor": 5
}
