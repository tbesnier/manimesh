{
 "cells": [
  {
   "cell_type": "code",
   "execution_count": 41,
   "id": "34c50c96",
   "metadata": {},
   "outputs": [
    {
     "name": "stdout",
     "output_type": "stream",
     "text": [
      "cuda:0\n"
     ]
    }
   ],
   "source": [
    "import sys,os\n",
    "import trimesh as tri\n",
    "import numpy as np\n",
    "import torch\n",
    "\n",
    "from utils import mesh_processing, lddmm_utils\n",
    "\n",
    "GPU = True\n",
    "device_idx = 0\n",
    "torch.cuda.get_device_name(device_idx)\n",
    "\n",
    "if GPU:\n",
    "    device = torch.device(\"cuda:\"+str(device_idx) if torch.cuda.is_available() else \"cpu\")\n",
    "else:\n",
    "    device = torch.device(\"cpu\")\n",
    "print(device)"
   ]
  },
  {
   "cell_type": "code",
   "execution_count": 42,
   "id": "e60805f2",
   "metadata": {},
   "outputs": [],
   "source": [
    "root_path = \"../datasets/COMA/\"\n",
    "\n",
    "idents = ['FaceTalk_170725_00137_TA', 'FaceTalk_170728_03272_TA', 'FaceTalk_170731_00024_TA', 'FaceTalk_170809_00138_TA',\n",
    "          'FaceTalk_170811_03274_TA', 'FaceTalk_170811_03275_TA', 'FaceTalk_170904_00128_TA', 'FaceTalk_170904_03276_TA',\n",
    "          'FaceTalk_170908_03277_TA', 'FaceTalk_170912_03278_TA', 'FaceTalk_170913_03279_TA', 'FaceTalk_170915_00223_TA']\n",
    "\n",
    "exprs = ['bareteeth', 'cheeks_in', 'eyebrow', 'high_smile', 'lips_back', 'lips_up',\n",
    "         'mouth_down', 'mouth_extreme', 'mouth_middle', 'mouth_open', 'mouth_side', 'mouth_up']"
   ]
  },
  {
   "cell_type": "code",
   "execution_count": 70,
   "id": "2570a541",
   "metadata": {},
   "outputs": [],
   "source": [
    "path_id1_expr1 = root_path + idents[0] + '/' + exprs[0]\n",
    "list_id1_expr1 = os.listdir(path_id1_expr1)\n",
    "list_id1_expr1.sort()\n",
    "\n",
    "path_id2_expr1 = root_path + idents[1] + '/' + exprs[0]\n",
    "list_id2_expr1 = os.listdir(path_id1_expr1)\n",
    "list_id2_expr1.sort()"
   ]
  },
  {
   "cell_type": "code",
   "execution_count": 71,
   "id": "783a61ec",
   "metadata": {},
   "outputs": [],
   "source": [
    "id1_neutral = tri.load(path_id1_expr1 + '/' + list_id1_expr1[0])\n",
    "id1_expr1 = tri.load(path_id1_expr1 + '/' + list_id1_expr1[len(list_id1_expr1)//2])\n",
    "\n",
    "\n",
    "id2_neutral = tri.load(path_id2_expr1 + '/' + list_id2_expr1[0])\n",
    "id2_expr1 = tri.load(path_id2_expr1 + '/' + list_id2_expr1[len(list_id2_expr1)//2])"
   ]
  },
  {
   "cell_type": "code",
   "execution_count": 74,
   "id": "8d822529",
   "metadata": {},
   "outputs": [],
   "source": [
    "def varifold_dist(mesh1, mesh2, sigma):\n",
    "    torchdtype = torch.float\n",
    "    sigma = torch.tensor([sigma], dtype=torchdtype, device=device)\n",
    "    \n",
    "    # PyKeOps counterpart\n",
    "    KeOpsdeviceId = device.index  # id of Gpu device (in case Gpu is  used)\n",
    "    KeOpsdtype = torchdtype.__str__().split(\".\")[1]  # 'float32'\n",
    "    \n",
    "    V1, F1 = torch.Tensor(mesh1.vertices).to(dtype=torchdtype, device=device).requires_grad_(True), torch.Tensor(mesh1.faces).to(dtype=torch.int32, device=device)\n",
    "    V2, F2 = torch.Tensor(mesh2.vertices).to(dtype=torchdtype, device=device).requires_grad_(True), torch.Tensor(mesh2.faces).to(dtype=torch.int32, device=device)\n",
    "    \n",
    "    L = lddmm_utils.lossVarifoldSurf(F1, V2, F2, lddmm_utils.GaussLinKernel(sigma=sigma))(V1)\n",
    "    \n",
    "    return L.sqrt().item()"
   ]
  },
  {
   "cell_type": "code",
   "execution_count": 78,
   "id": "e331e029",
   "metadata": {},
   "outputs": [
    {
     "data": {
      "text/plain": [
       "0.0027023139409720898"
      ]
     },
     "execution_count": 78,
     "metadata": {},
     "output_type": "execute_result"
    }
   ],
   "source": [
    "varifold_dist(id1_neutral, id1_expr1, sigma = 0.1)"
   ]
  },
  {
   "cell_type": "code",
   "execution_count": null,
   "id": "fa2b15cc",
   "metadata": {},
   "outputs": [],
   "source": []
  }
 ],
 "metadata": {
  "kernelspec": {
   "display_name": "Python 3 (ipykernel)",
   "language": "python",
   "name": "python3"
  },
  "language_info": {
   "codemirror_mode": {
    "name": "ipython",
    "version": 3
   },
   "file_extension": ".py",
   "mimetype": "text/x-python",
   "name": "python",
   "nbconvert_exporter": "python",
   "pygments_lexer": "ipython3",
   "version": "3.8.10"
  }
 },
 "nbformat": 4,
 "nbformat_minor": 5
}
