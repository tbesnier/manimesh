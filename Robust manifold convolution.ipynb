{
 "cells": [
  {
   "cell_type": "code",
   "execution_count": 2,
   "id": "7d1bcd86",
   "metadata": {},
   "outputs": [
    {
     "name": "stdout",
     "output_type": "stream",
     "text": [
      "Jupyter environment detected. Enabling Open3D WebVisualizer.\n",
      "[Open3D INFO] WebRTC GUI backend enabled.\n",
      "[Open3D INFO] WebRTCWindowSystem: HTTP handshake server disabled.\n"
     ]
    }
   ],
   "source": [
    "import numpy as np\n",
    "import matplotlib.pyplot as plt\n",
    "import trimesh as tri\n",
    "\n",
    "from utils import mesh_processing"
   ]
  },
  {
   "cell_type": "code",
   "execution_count": 3,
   "id": "75ca6af2",
   "metadata": {},
   "outputs": [],
   "source": [
    "mesh = tri.load_mesh(\"./data/test_data/bunny.ply\")"
   ]
  },
  {
   "cell_type": "code",
   "execution_count": 4,
   "id": "f412b94d",
   "metadata": {},
   "outputs": [],
   "source": [
    "ref_point = mesh.triangles_center[0]\n",
    "dual_mesh = mesh.triangles_center\n",
    "true_triangles = mesh.triangles"
   ]
  },
  {
   "cell_type": "code",
   "execution_count": 5,
   "id": "946528da",
   "metadata": {},
   "outputs": [
    {
     "data": {
      "text/plain": [
       "(69451, 3)"
      ]
     },
     "execution_count": 5,
     "metadata": {},
     "output_type": "execute_result"
    }
   ],
   "source": [
    "dual_mesh.shape"
   ]
  },
  {
   "cell_type": "code",
   "execution_count": 6,
   "id": "35530a5f",
   "metadata": {},
   "outputs": [
    {
     "data": {
      "text/plain": [
       "(69451, 3, 3)"
      ]
     },
     "execution_count": 6,
     "metadata": {},
     "output_type": "execute_result"
    }
   ],
   "source": [
    "true_triangles.shape"
   ]
  },
  {
   "cell_type": "code",
   "execution_count": 7,
   "id": "b6008feb",
   "metadata": {},
   "outputs": [],
   "source": [
    "def closest_node(node, nodes):\n",
    "    nodes = np.asarray(nodes)\n",
    "    deltas = nodes - node\n",
    "    dist_2 = np.einsum('ij,ij->i', deltas, deltas)\n",
    "    return np.argpartition(dist_2, 3)[:3]"
   ]
  },
  {
   "cell_type": "code",
   "execution_count": 8,
   "id": "df12ab63",
   "metadata": {},
   "outputs": [],
   "source": [
    "recons_triangles = np.zeros((true_triangles.shape))"
   ]
  },
  {
   "cell_type": "code",
   "execution_count": 13,
   "id": "2bb06361",
   "metadata": {},
   "outputs": [],
   "source": [
    "recons_triangles = np.array([closest_node(node, mesh.vertices) for node in dual_mesh[:10]])"
   ]
  },
  {
   "cell_type": "code",
   "execution_count": 14,
   "id": "ee476712",
   "metadata": {},
   "outputs": [
    {
     "data": {
      "text/plain": [
       "array([[20462, 20463, 19669],\n",
       "       [14299,  8935,  8845],\n",
       "       [ 4984, 12949, 15446],\n",
       "       [15447, 15446,  4984],\n",
       "       [20172, 20171, 20254],\n",
       "       [22324, 14686, 22609],\n",
       "       [29534, 29483, 26417],\n",
       "       [ 7016,  7018, 20707],\n",
       "       [12255, 12343, 12613],\n",
       "       [12317,  4490, 16344]])"
      ]
     },
     "execution_count": 14,
     "metadata": {},
     "output_type": "execute_result"
    }
   ],
   "source": [
    "recons_triangles"
   ]
  },
  {
   "cell_type": "code",
   "execution_count": 18,
   "id": "4b3ec0b1",
   "metadata": {},
   "outputs": [
    {
     "name": "stdout",
     "output_type": "stream",
     "text": [
      "[-0.0921802  0.132348   0.0172238]\n",
      "[-0.0923144  0.132364   0.0182222]\n",
      "[-0.0927674  0.130992   0.0172311]\n"
     ]
    }
   ],
   "source": [
    "print(mesh.vertices[20462])\n",
    "print(mesh.vertices[20463])\n",
    "print(mesh.vertices[19669])"
   ]
  },
  {
   "cell_type": "code",
   "execution_count": 19,
   "id": "49744795",
   "metadata": {},
   "outputs": [
    {
     "data": {
      "text/plain": [
       "array([[-0.0927674,  0.130992 ,  0.0172311],\n",
       "       [-0.0921802,  0.132348 ,  0.0172238],\n",
       "       [-0.0923144,  0.132364 ,  0.0182222]])"
      ]
     },
     "execution_count": 19,
     "metadata": {},
     "output_type": "execute_result"
    }
   ],
   "source": [
    "true_triangles[0]"
   ]
  },
  {
   "cell_type": "code",
   "execution_count": 44,
   "id": "0e746c21",
   "metadata": {},
   "outputs": [
    {
     "data": {
      "text/plain": [
       "array([20462, 20463, 19669])"
      ]
     },
     "execution_count": 44,
     "metadata": {},
     "output_type": "execute_result"
    }
   ],
   "source": [
    "closest_node(ref_point, mesh.vertices)"
   ]
  },
  {
   "cell_type": "code",
   "execution_count": 47,
   "id": "225f0d54",
   "metadata": {},
   "outputs": [
    {
     "data": {
      "text/plain": [
       "0.0010269673764337235"
      ]
     },
     "execution_count": 47,
     "metadata": {},
     "output_type": "execute_result"
    }
   ],
   "source": [
    "np.linalg.norm(ref_point - mesh.vertices[19669])"
   ]
  },
  {
   "cell_type": "code",
   "execution_count": null,
   "id": "b84c89ab",
   "metadata": {},
   "outputs": [],
   "source": [
    "def find_closest_triplet(point):"
   ]
  }
 ],
 "metadata": {
  "kernelspec": {
   "display_name": "Python 3 (ipykernel)",
   "language": "python",
   "name": "python3"
  },
  "language_info": {
   "codemirror_mode": {
    "name": "ipython",
    "version": 3
   },
   "file_extension": ".py",
   "mimetype": "text/x-python",
   "name": "python",
   "nbconvert_exporter": "python",
   "pygments_lexer": "ipython3",
   "version": "3.8.10"
  }
 },
 "nbformat": 4,
 "nbformat_minor": 5
}
