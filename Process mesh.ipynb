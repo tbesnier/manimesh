{
 "cells": [
  {
   "cell_type": "code",
   "execution_count": 5,
   "id": "ab57b29b",
   "metadata": {},
   "outputs": [],
   "source": [
    "import sys,os\n",
    "import trimesh as tri\n",
    "import numpy as np\n",
    "import torch\n",
    "import os\n",
    "\n",
    "from utils import mesh_processing, lddmm_utils"
   ]
  },
  {
   "cell_type": "code",
   "execution_count": 6,
   "id": "e5cc952b",
   "metadata": {},
   "outputs": [],
   "source": [
    "def export_mesh(V, F, file_name):\n",
    "    \"\"\"\n",
    "    Export mesh as .ply file from vertices coordinates and face connectivity\n",
    "    \"\"\"\n",
    "    result = tri.exchange.ply.export_ply(tri.Trimesh(V,F), encoding='ascii')\n",
    "    output_file = open(file_name, \"wb+\")\n",
    "    output_file.write(result)\n",
    "    output_file.close()"
   ]
  },
  {
   "cell_type": "code",
   "execution_count": 22,
   "id": "486d33dd",
   "metadata": {},
   "outputs": [],
   "source": [
    "root = os.listdir(\"../datasets/FAUST_shape/\")"
   ]
  },
  {
   "cell_type": "code",
   "execution_count": 25,
   "id": "14ba24bb",
   "metadata": {},
   "outputs": [],
   "source": [
    "ids = []\n",
    "for mesh in root:\n",
    "    original_mesh = tri.load(os.path.join(\"../datasets/FAUST_shape/\", mesh))\n",
    "    F = original_mesh.faces\n",
    "    ids.append(original_mesh.vertices)\n",
    "ids = np.array(ids)"
   ]
  },
  {
   "cell_type": "code",
   "execution_count": 27,
   "id": "cf106cd4",
   "metadata": {},
   "outputs": [],
   "source": [
    "export_mesh(np.mean(ids, axis=0),F, \"../datasets/template_FAUST.ply\" )"
   ]
  },
  {
   "cell_type": "code",
   "execution_count": 9,
   "id": "6ac5f235",
   "metadata": {},
   "outputs": [
    {
     "ename": "NameError",
     "evalue": "name 'original_mesh' is not defined",
     "output_type": "error",
     "traceback": [
      "\u001b[0;31m---------------------------------------------------------------------------\u001b[0m",
      "\u001b[0;31mNameError\u001b[0m                                 Traceback (most recent call last)",
      "Cell \u001b[0;32mIn [9], line 1\u001b[0m\n\u001b[0;32m----> 1\u001b[0m centered_mesh_vert \u001b[38;5;241m=\u001b[39m \u001b[43moriginal_mesh\u001b[49m\u001b[38;5;241m.\u001b[39mvertices \u001b[38;5;241m-\u001b[39m np\u001b[38;5;241m.\u001b[39mmean(original_mesh\u001b[38;5;241m.\u001b[39mvertices, axis\u001b[38;5;241m=\u001b[39m\u001b[38;5;241m0\u001b[39m)\n",
      "\u001b[0;31mNameError\u001b[0m: name 'original_mesh' is not defined"
     ]
    }
   ],
   "source": [
    "centered_mesh_vert = original_mesh.vertices - np.mean(original_mesh.vertices, axis=0)"
   ]
  },
  {
   "cell_type": "code",
   "execution_count": 69,
   "id": "6656594d",
   "metadata": {},
   "outputs": [],
   "source": [
    "centered_mesh = export_mesh(centered_mesh_vert, original_mesh.faces, 'ID10.ply')"
   ]
  },
  {
   "cell_type": "code",
   "execution_count": null,
   "id": "b53bd323",
   "metadata": {},
   "outputs": [],
   "source": []
  },
  {
   "cell_type": "code",
   "execution_count": 10,
   "id": "c84b8d45",
   "metadata": {},
   "outputs": [],
   "source": []
  },
  {
   "cell_type": "code",
   "execution_count": 11,
   "id": "840caf88",
   "metadata": {},
   "outputs": [
    {
     "data": {
      "text/plain": [
       "['ID3.ply',\n",
       " 'ID9.ply',\n",
       " 'ID8.ply',\n",
       " 'ID5.ply',\n",
       " 'ID6.ply',\n",
       " 'ID7.ply',\n",
       " 'ID1.ply',\n",
       " 'ID10.ply',\n",
       " 'ID4.ply',\n",
       " 'ID2.ply']"
      ]
     },
     "execution_count": 11,
     "metadata": {},
     "output_type": "execute_result"
    }
   ],
   "source": []
  },
  {
   "cell_type": "code",
   "execution_count": null,
   "id": "ab54f584",
   "metadata": {},
   "outputs": [],
   "source": []
  }
 ],
 "metadata": {
  "kernelspec": {
   "display_name": "Python 3 (ipykernel)",
   "language": "python",
   "name": "python3"
  },
  "language_info": {
   "codemirror_mode": {
    "name": "ipython",
    "version": 3
   },
   "file_extension": ".py",
   "mimetype": "text/x-python",
   "name": "python",
   "nbconvert_exporter": "python",
   "pygments_lexer": "ipython3",
   "version": "3.8.10"
  }
 },
 "nbformat": 4,
 "nbformat_minor": 5
}
