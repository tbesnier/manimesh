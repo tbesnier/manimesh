{
 "cells": [
  {
   "cell_type": "code",
   "execution_count": 32,
   "id": "ab57b29b",
   "metadata": {},
   "outputs": [],
   "source": [
    "import sys,os\n",
    "import trimesh as tri\n",
    "import numpy as np\n",
    "import torch\n",
    "\n",
    "from utils import mesh_processing, lddmm_utils"
   ]
  },
  {
   "cell_type": "code",
   "execution_count": 33,
   "id": "e5cc952b",
   "metadata": {},
   "outputs": [],
   "source": [
    "def export_mesh(V, F, file_name):\n",
    "    \"\"\"\n",
    "    Export mesh as .ply file from vertices coordinates and face connectivity\n",
    "    \"\"\"\n",
    "    result = tri.exchange.ply.export_ply(tri.Trimesh(V,F), encoding='ascii')\n",
    "    output_file = open(file_name, \"wb+\")\n",
    "    output_file.write(result)\n",
    "    output_file.close()"
   ]
  },
  {
   "cell_type": "code",
   "execution_count": 66,
   "id": "486d33dd",
   "metadata": {},
   "outputs": [],
   "source": [
    "file_path = \"../datasets/FAUST_shape/tr_reg_090.ply\""
   ]
  },
  {
   "cell_type": "code",
   "execution_count": 67,
   "id": "14ba24bb",
   "metadata": {},
   "outputs": [],
   "source": [
    "original_mesh = tri.load(file_path)"
   ]
  },
  {
   "cell_type": "code",
   "execution_count": 68,
   "id": "6ac5f235",
   "metadata": {},
   "outputs": [],
   "source": [
    "centered_mesh_vert = original_mesh.vertices - np.mean(original_mesh.vertices, axis=0)"
   ]
  },
  {
   "cell_type": "code",
   "execution_count": 69,
   "id": "6656594d",
   "metadata": {},
   "outputs": [],
   "source": [
    "centered_mesh = export_mesh(centered_mesh_vert, original_mesh.faces, 'ID10.ply')"
   ]
  },
  {
   "cell_type": "code",
   "execution_count": null,
   "id": "b53bd323",
   "metadata": {},
   "outputs": [],
   "source": []
  },
  {
   "cell_type": "code",
   "execution_count": null,
   "id": "c84b8d45",
   "metadata": {},
   "outputs": [],
   "source": []
  }
 ],
 "metadata": {
  "kernelspec": {
   "display_name": "Python 3 (ipykernel)",
   "language": "python",
   "name": "python3"
  },
  "language_info": {
   "codemirror_mode": {
    "name": "ipython",
    "version": 3
   },
   "file_extension": ".py",
   "mimetype": "text/x-python",
   "name": "python",
   "nbconvert_exporter": "python",
   "pygments_lexer": "ipython3",
   "version": "3.8.10"
  }
 },
 "nbformat": 4,
 "nbformat_minor": 5
}
