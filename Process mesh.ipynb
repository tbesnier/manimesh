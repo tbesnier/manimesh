{
 "cells": [
  {
   "cell_type": "code",
   "execution_count": 32,
   "id": "ab57b29b",
   "metadata": {},
   "outputs": [],
   "source": [
    "import sys,os\n",
    "import trimesh as tri\n",
    "import numpy as np\n",
    "import torch\n",
    "import os\n",
    "\n",
    "from utils import mesh_processing, lddmm_utils"
   ]
  },
  {
   "cell_type": "code",
   "execution_count": 33,
   "id": "e5cc952b",
   "metadata": {},
   "outputs": [],
   "source": [
    "def export_mesh(V, F, file_name):\n",
    "    \"\"\"\n",
    "    Export mesh as .ply file from vertices coordinates and face connectivity\n",
    "    \"\"\"\n",
    "    result = tri.exchange.ply.export_ply(tri.Trimesh(V,F), encoding='ascii')\n",
    "    output_file = open(file_name, \"wb+\")\n",
    "    output_file.write(result)\n",
    "    output_file.close()"
   ]
  },
  {
   "cell_type": "code",
   "execution_count": 34,
   "id": "486d33dd",
   "metadata": {},
   "outputs": [],
   "source": [
    "scan_path = \"../datasets/COMA_preprocessed_scans/FaceTalk_170725_00137_TA/bareteeth/bareteeth.000001.ply\"\n",
    "template = tri.load(\"../Data/COMA/template/template.ply\")"
   ]
  },
  {
   "cell_type": "code",
   "execution_count": 51,
   "id": "14ba24bb",
   "metadata": {},
   "outputs": [],
   "source": [
    "scan = tri.load(scan_path)"
   ]
  },
  {
   "cell_type": "code",
   "execution_count": 57,
   "id": "1b9ad36b",
   "metadata": {},
   "outputs": [],
   "source": [
    "trans = np.stack((np.zeros(scan.vertices.shape[0]), -0.03*np.ones(scan.vertices.shape[0]), -0.03*np.ones(scan.vertices.shape[0]))).T"
   ]
  },
  {
   "cell_type": "code",
   "execution_count": 58,
   "id": "3fcfaffa",
   "metadata": {},
   "outputs": [
    {
     "data": {
      "text/plain": [
       "array([[ 0.  , -0.03, -0.03],\n",
       "       [ 0.  , -0.03, -0.03],\n",
       "       [ 0.  , -0.03, -0.03],\n",
       "       ...,\n",
       "       [ 0.  , -0.03, -0.03],\n",
       "       [ 0.  , -0.03, -0.03],\n",
       "       [ 0.  , -0.03, -0.03]])"
      ]
     },
     "execution_count": 58,
     "metadata": {},
     "output_type": "execute_result"
    }
   ],
   "source": [
    "trans"
   ]
  },
  {
   "cell_type": "code",
   "execution_count": null,
   "id": "1a4004ac",
   "metadata": {},
   "outputs": [],
   "source": []
  },
  {
   "cell_type": "code",
   "execution_count": 59,
   "id": "cf106cd4",
   "metadata": {},
   "outputs": [],
   "source": [
    "centered_verts = (scan.vertices + trans)*1.1# - np.mean(scan.vertices, axis=0))"
   ]
  },
  {
   "cell_type": "code",
   "execution_count": 60,
   "id": "6656594d",
   "metadata": {},
   "outputs": [],
   "source": [
    "export_mesh(centered_verts, scan.faces, '../test.ply')\n",
    "export_mesh(template.vertices, template.faces, '../test_temp.ply')"
   ]
  },
  {
   "cell_type": "code",
   "execution_count": null,
   "id": "b53bd323",
   "metadata": {},
   "outputs": [],
   "source": []
  },
  {
   "cell_type": "code",
   "execution_count": 10,
   "id": "c84b8d45",
   "metadata": {},
   "outputs": [],
   "source": []
  },
  {
   "cell_type": "code",
   "execution_count": null,
   "id": "840caf88",
   "metadata": {},
   "outputs": [],
   "source": []
  },
  {
   "cell_type": "code",
   "execution_count": null,
   "id": "ab54f584",
   "metadata": {},
   "outputs": [],
   "source": []
  }
 ],
 "metadata": {
  "kernelspec": {
   "display_name": "Python 3 (ipykernel)",
   "language": "python",
   "name": "python3"
  },
  "language_info": {
   "codemirror_mode": {
    "name": "ipython",
    "version": 3
   },
   "file_extension": ".py",
   "mimetype": "text/x-python",
   "name": "python",
   "nbconvert_exporter": "python",
   "pygments_lexer": "ipython3",
   "version": "3.8.10"
  }
 },
 "nbformat": 4,
 "nbformat_minor": 5
}
