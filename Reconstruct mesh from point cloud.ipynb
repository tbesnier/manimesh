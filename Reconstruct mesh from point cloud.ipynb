{
 "cells": [
  {
   "cell_type": "code",
   "execution_count": 60,
   "id": "e1d78762",
   "metadata": {},
   "outputs": [],
   "source": [
    "import numpy as np\n",
    "import trimesh as tri\n",
    "import torch\n",
    "\n",
    "import matplotlib.pyplot as plt\n",
    "from mpl_toolkits.mplot3d import Axes3D\n",
    "from os import listdir\n",
    "import open3d\n",
    "import open3d as o3d\n",
    "\n",
    "from utils import lddmm_utils, mesh_processing"
   ]
  },
  {
   "cell_type": "code",
   "execution_count": 61,
   "id": "03b8125e",
   "metadata": {},
   "outputs": [],
   "source": [
    "mesh_original = o3d.io.read_triangle_mesh(\"../datasets/FLAME/D3DFACS/Adrian/1+2/1+2_120.ply\")"
   ]
  },
  {
   "cell_type": "code",
   "execution_count": 63,
   "id": "ce04b49f",
   "metadata": {},
   "outputs": [
    {
     "ename": "AttributeError",
     "evalue": "module 'open3d' has no attribute 'data'",
     "output_type": "error",
     "traceback": [
      "\u001b[0;31m---------------------------------------------------------------------------\u001b[0m",
      "\u001b[0;31mAttributeError\u001b[0m                            Traceback (most recent call last)",
      "Cell \u001b[0;32mIn [63], line 1\u001b[0m\n\u001b[0;32m----> 1\u001b[0m mesh \u001b[38;5;241m=\u001b[39m \u001b[43mopen3d\u001b[49m\u001b[38;5;241;43m.\u001b[39;49m\u001b[43mdata\u001b[49m\u001b[38;5;241m.\u001b[39mBunnyMesh()\n",
      "\u001b[0;31mAttributeError\u001b[0m: module 'open3d' has no attribute 'data'"
     ]
    }
   ],
   "source": [
    "mesh = open3d.data.BunnyMesh()"
   ]
  },
  {
   "cell_type": "code",
   "execution_count": 51,
   "id": "d1aadd6d",
   "metadata": {},
   "outputs": [],
   "source": [
    "radii = [0.005, 0.01, 0.02, 0.04]\n",
    "rec_mesh = o3d.geometry.TriangleMesh.create_from_point_cloud_ball_pivoting(\n",
    "    pcd, o3d.utility.DoubleVector(radii))"
   ]
  },
  {
   "cell_type": "code",
   "execution_count": 55,
   "id": "d1eefdf3",
   "metadata": {},
   "outputs": [
    {
     "name": "stdout",
     "output_type": "stream",
     "text": [
      "[Open3D DEBUG] Input Points / Samples: 6000 / 6000\n",
      "[Open3D DEBUG] #   Got kernel density: 0.044174 (s), 574.672 (MB) / 574.672 (MB) / 575 (MB)\n",
      "[Open3D DEBUG] #     Got normal field: 0.00980091 (s), 575.691 (MB) / 575.691 (MB) / 575 (MB)\n",
      "[Open3D DEBUG] Point weight / Estimated Area: 3.877853e-04 / 2.326712e+00\n",
      "[Open3D DEBUG] #       Finalized tree: 0.0215461 (s), 575.949 (MB) / 575.949 (MB) / 575 (MB)\n",
      "[Open3D DEBUG] #  Set FEM constraints: 0.0291991 (s), 575.949 (MB) / 575.949 (MB) / 575 (MB)\n",
      "[Open3D DEBUG] #Set point constraints: 0.00405216 (s), 575.949 (MB) / 575.949 (MB) / 575 (MB)\n",
      "[Open3D DEBUG] Leaf Nodes / Active Nodes / Ghost Nodes: 274807 / 100768 / 213297\n",
      "[Open3D DEBUG] Memory Usage: 575.949 MB\n",
      "[Open3D DEBUG] # Linear system solved: 0.0822070 (s), 575.949 (MB) / 575.949 (MB) / 575 (MB)\n",
      "[Open3D DEBUG] Got average: 0.00285912 (s), 575.949 (MB) / 575.949 (MB) / 575 (MB)\n",
      "[Open3D DEBUG] Iso-Value: 5.004499e-01 = 3.002699e+03 / 6.000000e+03\n",
      "[Open3D DEBUG] #          Total Solve:       0.7 (s),     577.7 (MB)\n",
      "TriangleMesh with 9610 points and 19098 triangles.\n"
     ]
    }
   ],
   "source": [
    "with o3d.utility.VerbosityContextManager(\n",
    "        o3d.utility.VerbosityLevel.Debug) as cm:\n",
    "    rec_mesh, densities = o3d.geometry.TriangleMesh.create_from_point_cloud_poisson(\n",
    "        pcd, depth=9)\n",
    "print(mesh)\n",
    "o3d.visualization.draw_geometries([mesh])"
   ]
  },
  {
   "cell_type": "code",
   "execution_count": 56,
   "id": "d226f09d",
   "metadata": {},
   "outputs": [],
   "source": [
    "V,F, Rho = mesh_processing.getDataFromMesh(rec_mesh)"
   ]
  },
  {
   "cell_type": "code",
   "execution_count": 57,
   "id": "f5e43c51",
   "metadata": {},
   "outputs": [],
   "source": [
    "mesh_processing.export_mesh(V,F,\"test.ply\")"
   ]
  },
  {
   "cell_type": "code",
   "execution_count": null,
   "id": "3f4f0556",
   "metadata": {},
   "outputs": [],
   "source": []
  }
 ],
 "metadata": {
  "kernelspec": {
   "display_name": "Python 3 (ipykernel)",
   "language": "python",
   "name": "python3"
  },
  "language_info": {
   "codemirror_mode": {
    "name": "ipython",
    "version": 3
   },
   "file_extension": ".py",
   "mimetype": "text/x-python",
   "name": "python",
   "nbconvert_exporter": "python",
   "pygments_lexer": "ipython3",
   "version": "3.8.10"
  }
 },
 "nbformat": 4,
 "nbformat_minor": 5
}
